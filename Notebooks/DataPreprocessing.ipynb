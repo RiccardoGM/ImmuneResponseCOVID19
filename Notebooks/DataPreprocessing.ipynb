{
 "cells": [
  {
   "cell_type": "markdown",
   "metadata": {
    "tags": []
   },
   "source": [
    "## Import libraries"
   ]
  },
  {
   "cell_type": "code",
   "execution_count": null,
   "metadata": {
    "tags": []
   },
   "outputs": [],
   "source": [
    "## Import libraries\n",
    "import pandas as pd\n",
    "import numpy as np\n",
    "from sklearn.preprocessing import StandardScaler, PowerTransformer\n",
    "import sys\n",
    "import os\n",
    "\n",
    "os.environ['PATH'] = os.environ['PATH'] + ':/Library/TeX/texbin'\n",
    "sys.path.append('/Users/riccardo/Documents/GitHub/COVID19Classification/')\n",
    "print(sys.version)\n",
    "\n",
    "from Modules import Parameters, DataPreprocessing as DP"
   ]
  },
  {
   "cell_type": "markdown",
   "metadata": {},
   "source": [
    "## Import data"
   ]
  },
  {
   "cell_type": "code",
   "execution_count": null,
   "metadata": {},
   "outputs": [],
   "source": [
    "# Import data of hostpitalized patients\n",
    "file_name = 'DataInpatients_CCIMasked.xlsx'\n",
    "path_import = Parameters.path_datasets + file_name\n",
    "DataInpatients_0 = pd.read_excel(path_import, engine='openpyxl')\n",
    "DataInpatients_0.drop(columns=['Unnamed: 0'], inplace=True)\n",
    "print('Shape inpatients data:', DataInpatients_0.shape)\n",
    "\n",
    "# Import data of non-hostpitalized patients\n",
    "file_name = 'DataOutpatients.xlsx'\n",
    "path_import = Parameters.path_datasets + file_name\n",
    "DataOutpatients_0 = pd.read_excel(path_import, engine='openpyxl')\n",
    "DataOutpatients_0.drop(columns=['Unnamed: 0'], inplace=True)\n",
    "print('Shape outpatients data:', DataOutpatients_0.shape)"
   ]
  },
  {
   "cell_type": "markdown",
   "metadata": {},
   "source": [
    "## Preprocessing"
   ]
  },
  {
   "cell_type": "markdown",
   "metadata": {},
   "source": [
    "### Format nans"
   ]
  },
  {
   "cell_type": "code",
   "execution_count": null,
   "metadata": {},
   "outputs": [],
   "source": [
    "# nan/nat to none\n",
    "DataInpatients_1 = DataInpatients_0.copy()\n",
    "DataInpatients_1 = DataInpatients_1.where(DataInpatients_1.notnull().values, -1e100)\n",
    "DataInpatients_1 = DataInpatients_1.where(DataInpatients_1.values!=-1e100, np.nan)\n",
    "\n",
    "DataOutpatients_1 = DataOutpatients_0.copy()\n",
    "DataOutpatients_1 = DataOutpatients_1.where(DataOutpatients_1.notnull().values, -1e100)\n",
    "DataOutpatients_1 = DataOutpatients_1.where(DataOutpatients_1.values!=-1e100, np.nan)"
   ]
  },
  {
   "cell_type": "markdown",
   "metadata": {
    "tags": []
   },
   "source": [
    "### Neutro, Baso, Euso"
   ]
  },
  {
   "cell_type": "code",
   "execution_count": null,
   "metadata": {},
   "outputs": [],
   "source": [
    "if 'NeutroBaEu/uL' not in DataInpatients_1.columns:\n",
    "    new_idx = DataInpatients_1.columns.get_loc('WBC/uL') + 1\n",
    "    v = DataInpatients_1['WBC/uL'].values - (DataInpatients_1['Mono/uL'].values + DataInpatients_1['Linfo/uL'].values)\n",
    "    v[v<0] = 0\n",
    "    DataInpatients_1.insert(loc=new_idx, column='NeutroBaEu/uL', value=v)\n",
    "\n",
    "    new_idx = DataOutpatients_1.columns.get_loc('WBC/uL') + 1\n",
    "    v = DataOutpatients_1['WBC/uL'].values - (DataOutpatients_1['Mono/uL'].values + DataOutpatients_1['Linfo/uL'].values)\n",
    "    v[v<0] = 0\n",
    "    DataOutpatients_1.insert(loc=new_idx, column='NeutroBaEu/uL', value=v)"
   ]
  },
  {
   "cell_type": "markdown",
   "metadata": {},
   "source": [
    "### $\\Delta t_{\\mathrm{ons}}$ "
   ]
  },
  {
   "cell_type": "code",
   "execution_count": null,
   "metadata": {},
   "outputs": [],
   "source": [
    "# Dates\n",
    "dates = [date for date in DataInpatients_1.columns if 'date#' in date]\n",
    "\n",
    "if 'delta_onset' not in DataInpatients_1.columns:\n",
    "    \n",
    "    # Find time elapsed since ref. timepoint for each date\n",
    "    ref_date_str = '01-01-2020'\n",
    "    ref_date = pd.Timestamp(ref_date_str)\n",
    "    d_dates = {}\n",
    "    for date in dates:\n",
    "        d_dates[date] = np.array([(element-ref_date).days if pd.notnull(element) else np.nan for element in DataInpatients_1[date]])\n",
    "    d_dates_df = pd.DataFrame(d_dates, columns=dates, index=DataInpatients_1['ID'])\n",
    "\n",
    "    # Add delta_onset column to DataInpatients_1\n",
    "    date_flowcyt_exam = d_dates_df['date#flowcyt_exam'].values\n",
    "    date_onset = d_dates_df['date#onset'].values    \n",
    "    delta_onset_df = pd.DataFrame(date_flowcyt_exam - date_onset, columns=['delta_onset'], index=d_dates_df.index)\n",
    "    v = delta_onset_df.values\n",
    "    DataInpatients_1['delta_onset'] = v\n",
    "    DataOutpatients_1['delta_onset'] = np.nan\n",
    "    print('N. delta_onset data:', sum(DataInpatients_1['delta_onset'].notna()))"
   ]
  },
  {
   "cell_type": "markdown",
   "metadata": {},
   "source": [
    "### Outpatients categories: no covid, no hospitalization"
   ]
  },
  {
   "cell_type": "code",
   "execution_count": null,
   "metadata": {},
   "outputs": [],
   "source": [
    "columns_covid_data = DataInpatients_1.columns\n",
    "\n",
    "mask_noCovid = DataOutpatients_1['COVID ']==0\n",
    "Data_noCovid = DataOutpatients_1.loc[mask_noCovid, columns_covid_data].copy()\n",
    "print('Data no covid shape:', Data_noCovid.shape)\n",
    "\n",
    "mask_Covid = mask_noCovid==False\n",
    "mask_noAdmission =  DataOutpatients_1['Admission']==0\n",
    "Data_noAdmission = DataOutpatients_1.loc[mask_Covid & mask_noAdmission, columns_covid_data].copy()\n",
    "print('Data no admission shape:', Data_noAdmission.shape)\n",
    "\n",
    "DataOutpatients = Data_noAdmission.loc[mask_noCovid | mask_noAdmission, columns_covid_data].copy()\n",
    "print('Data control shape:', DataOutpatients.shape)"
   ]
  },
  {
   "cell_type": "markdown",
   "metadata": {},
   "source": [
    "### Age masking (inpatients only)"
   ]
  },
  {
   "cell_type": "code",
   "execution_count": null,
   "metadata": {},
   "outputs": [],
   "source": [
    "## Age range\n",
    "min_age = Parameters.age_min # int>=0\n",
    "max_age = Parameters.age_max # int>lower_bound\n",
    "age_masking = (min_age>0) | (max_age<150)\n",
    "\n",
    "## Masking\n",
    "age = np.round(DataInpatients_1['age'].values)\n",
    "title = 'Age between %d and %d' % (min_age, max_age)\n",
    "age_mask = (age >= min_age) & (age < max_age)\n",
    "DataInpatients_2 = DataInpatients_1.loc[age_mask, :].copy()\n",
    "\n",
    "print('Min. age:', np.round(min(DataInpatients_2['age'])))\n",
    "print('Max. age:', np.round(max(DataInpatients_2['age'])))\n",
    "print('Title:', title)\n",
    "print('Data inpatients shape:', DataInpatients_2.shape)\n",
    "print('Data outpatients shape:', DataOutpatients.shape)"
   ]
  },
  {
   "cell_type": "markdown",
   "metadata": {},
   "source": [
    "### $\\Delta t_{\\mathrm{onset}}$ masking (inpatients only)"
   ]
  },
  {
   "cell_type": "code",
   "execution_count": null,
   "metadata": {},
   "outputs": [],
   "source": [
    "## delta_onset range\n",
    "min_donset = Parameters.donset_min # int>=0\n",
    "max_donset = Parameters.donset_max # int>lower_bound\n",
    "donset_masking = (min_donset>=0) | (max_donset<=30)\n",
    "\n",
    "## Masking\n",
    "donset = np.round(DataInpatients_2['delta_onset'].values)\n",
    "donset_mask = (donset >= min_donset) & (donset <= max_donset)\n",
    "DataInpatients_3 = DataInpatients_2.loc[donset_mask, :].copy()\n",
    "\n",
    "print('Min. donset:', np.round(min(DataInpatients_3['delta_onset'])), '(>=%d)'%min_donset)\n",
    "print('Max. donset:', np.round(max(DataInpatients_3['delta_onset'])), '(<=%d)'%max_donset)\n",
    "print('Data inpatients shape:', DataInpatients_3.shape)\n",
    "print('Data outpatients shape:', DataOutpatients.shape)"
   ]
  },
  {
   "cell_type": "markdown",
   "metadata": {},
   "source": [
    "### Outliers removal"
   ]
  },
  {
   "cell_type": "code",
   "execution_count": null,
   "metadata": {},
   "outputs": [],
   "source": [
    "# Variables of interest\n",
    "immunecells_set = Parameters.immunecells_set\n",
    "cytokines_set = Parameters.cytokines_set\n",
    "demographics_set = Parameters.demographics_set\n",
    "scores_set = Parameters.scores_set\n",
    "biomarkers_set = Parameters.biomarkers_set\n",
    "output_set = Parameters.output_set\n",
    "all_set = Parameters.all_set\n",
    "\n",
    "# Final dataset\n",
    "DataInpatients = DataInpatients_3.copy()\n",
    "\n",
    "std = StandardScaler()\n",
    "ptr = PowerTransformer()\n",
    "z_score_th = Parameters.z_score_th\n",
    "for name in all_set:\n",
    "    z = ptr.fit_transform(std.fit_transform(DataInpatients[name].values.reshape(-1, 1)))\n",
    "    is_outlier = abs(z) > z_score_th\n",
    "    n_outliers = sum(is_outlier)\n",
    "    if n_outliers:\n",
    "        DataInpatients[name].where(is_outlier.reshape(-1,)==False, inplace=True)"
   ]
  },
  {
   "cell_type": "markdown",
   "metadata": {},
   "source": [
    "## Export preprocessed data"
   ]
  },
  {
   "cell_type": "code",
   "execution_count": null,
   "metadata": {},
   "outputs": [],
   "source": [
    "file_name = 'DataInpatients_CCIMasked_preprocessed.xlsx'\n",
    "path = Parameters.path_datasets + file_name\n",
    "DataInpatients.to_excel(path)\n",
    "\n",
    "file_name = 'DataOutpatients_preprocessed.xlsx'\n",
    "path = Parameters.path_datasets + file_name\n",
    "DataOutpatients.to_excel(path)"
   ]
  },
  {
   "cell_type": "code",
   "execution_count": null,
   "metadata": {},
   "outputs": [],
   "source": [
    "# Check LR on components\n",
    "from sklearn.decomposition import PCA\n",
    "import matplotlib.pyplot as plt\n",
    "from sklearn.preprocessing import StandardScaler\n",
    "from sklearn.linear_model import LogisticRegression\n",
    "\n",
    "x_1 = np.random.normal(0, 2, (1000, 1))\n",
    "x_2 = x_1 + np.random.normal(0, 0.05, (1000, 1))\n",
    "X_low_var =  np.random.normal(0, 0.005, (1000, 3))\n",
    "X = np.concatenate((x_1, x_2, X_low_var), axis=1)\n",
    "x_1_max = max(x_1)\n",
    "y = np.array([np.random.binomial(1, min(1, 6*max(0, 0.25+el)/x_1_max), size=1) for el in x_1]).reshape(-1,)\n",
    "X_std = StandardScaler().fit_transform(X)\n",
    "model = PCA().fit(X_std)\n",
    "X_pca = model.transform(X_std)\n",
    "\n",
    "LR = LogisticRegression()\n",
    "LR.fit(X_pca, y)\n",
    "coefficients_LR = LR.coef_\n",
    "print('Coeff. pca:', coefficients_LR)\n",
    "print('Coeff.:', model.inverse_transform(coefficients_LR))\n",
    "bias_LR = LR.intercept_\n",
    "print(bias_LR)\n",
    "\n",
    "plt.scatter(X_pca[y==0, 0], X_pca[y==0, 1], alpha=0.5)\n",
    "plt.scatter(X_pca[y==1, 0], X_pca[y==1, 1], alpha=0.5)\n",
    "v = np.linspace(-5, 5, 1000)\n",
    "plt.plot(v, bias_LR+coefficients_LR[0, 0]*v>0, color='black')\n",
    "plt.ylim([-2, 2])\n",
    "\n",
    "plt.show()"
   ]
  },
  {
   "cell_type": "code",
   "execution_count": null,
   "metadata": {},
   "outputs": [],
   "source": [
    "mask_components = model.explained_variance_ratio_.ravel()<0.05\n",
    "model.components_[mask_components] = 0\n",
    "\n",
    "X_pca_topcomp = model.transform(X_std)\n",
    "LR = LogisticRegression()\n",
    "LR.fit(X_pca_topcomp, y)\n",
    "coefficients_LR = LR.coef_\n",
    "print('Coeff. pca:', coefficients_LR)\n",
    "print('Coeff.:', model.inverse_transform(coefficients_LR))\n",
    "bias_LR = LR.intercept_\n",
    "print(bias_LR)"
   ]
  },
  {
   "cell_type": "code",
   "execution_count": null,
   "metadata": {},
   "outputs": [],
   "source": [
    "np.hstack((np.ones((3, 4)), np.zeros((3, 2))))"
   ]
  },
  {
   "cell_type": "code",
   "execution_count": null,
   "metadata": {},
   "outputs": [],
   "source": []
  }
 ],
 "metadata": {
  "kernelspec": {
   "display_name": "py3_6_12",
   "language": "python",
   "name": "python3"
  },
  "language_info": {
   "codemirror_mode": {
    "name": "ipython",
    "version": 3
   },
   "file_extension": ".py",
   "mimetype": "text/x-python",
   "name": "python",
   "nbconvert_exporter": "python",
   "pygments_lexer": "ipython3",
   "version": "3.6.12"
  }
 },
 "nbformat": 4,
 "nbformat_minor": 4
}
