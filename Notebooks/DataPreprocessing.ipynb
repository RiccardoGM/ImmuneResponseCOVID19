{
 "cells": [
  {
   "cell_type": "markdown",
   "metadata": {
    "tags": []
   },
   "source": [
    "## Import libraries"
   ]
  },
  {
   "cell_type": "code",
   "execution_count": null,
   "metadata": {
    "tags": []
   },
   "outputs": [],
   "source": [
    "import pandas as pd\n",
    "import numpy as np\n",
    "from sklearn.preprocessing import StandardScaler, PowerTransformer\n",
    "\n",
    "## Custom modules\n",
    "import sys\n",
    "import os\n",
    "os.environ['PATH'] = os.environ['PATH'] + ':/Library/TeX/texbin'\n",
    "# Append the parent directory to the sys.path\n",
    "this_path = os.path.abspath('') \n",
    "parent_dir = os.path.dirname(this_path)  \n",
    "sys.path.append(parent_dir)\n",
    "from Modules import Parameters"
   ]
  },
  {
   "cell_type": "markdown",
   "metadata": {},
   "source": [
    "## Import data"
   ]
  },
  {
   "cell_type": "code",
   "execution_count": null,
   "metadata": {},
   "outputs": [],
   "source": [
    "# Import data of hostpitalized patients\n",
    "file_name = 'DataInpatients_anonymized.xlsx'\n",
    "path_import = Parameters.path_datasets + file_name\n",
    "DataInpatients_0 = pd.read_excel(path_import, engine='openpyxl')\n",
    "print('Shape inpatients data:', DataInpatients_0.shape)\n",
    "\n",
    "# Import data of non-hostpitalized patients\n",
    "file_name = 'DataOutpatients_anonymized.xlsx'\n",
    "path_import = Parameters.path_datasets + file_name\n",
    "DataOutpatients_0 = pd.read_excel(path_import, engine='openpyxl')\n",
    "print('Shape outpatients data:', DataOutpatients_0.shape)"
   ]
  },
  {
   "cell_type": "markdown",
   "metadata": {},
   "source": [
    "## Preprocessing"
   ]
  },
  {
   "cell_type": "markdown",
   "metadata": {},
   "source": [
    "### Format nans"
   ]
  },
  {
   "cell_type": "code",
   "execution_count": null,
   "metadata": {},
   "outputs": [],
   "source": [
    "# nan/nat to none\n",
    "DataInpatients_1 = DataInpatients_0.copy()\n",
    "DataInpatients_1 = DataInpatients_1.where(DataInpatients_1.notnull().values, -1e100)\n",
    "DataInpatients_1 = DataInpatients_1.where(DataInpatients_1.values!=-1e100, np.nan)\n",
    "\n",
    "DataOutpatients_1 = DataOutpatients_0.copy()\n",
    "DataOutpatients_1 = DataOutpatients_1.where(DataOutpatients_1.notnull().values, -1e100)\n",
    "DataOutpatients_1 = DataOutpatients_1.where(DataOutpatients_1.values!=-1e100, np.nan)"
   ]
  },
  {
   "cell_type": "markdown",
   "metadata": {
    "tags": []
   },
   "source": [
    "### Ganulocytes"
   ]
  },
  {
   "cell_type": "code",
   "execution_count": null,
   "metadata": {},
   "outputs": [],
   "source": [
    "if 'Granulo/uL' not in DataInpatients_1.columns:\n",
    "    new_idx = DataInpatients_1.columns.get_loc('WBC/uL') + 1\n",
    "    v = DataInpatients_1['WBC/uL'].values - (DataInpatients_1['Mono/uL'].values + DataInpatients_1['Lymph/uL'].values)\n",
    "    v[v<0] = 0\n",
    "    DataInpatients_1.insert(loc=new_idx, column='Granulo/uL', value=v)\n",
    "\n",
    "    new_idx = DataOutpatients_1.columns.get_loc('WBC/uL') + 1\n",
    "    v = DataOutpatients_1['WBC/uL'].values - (DataOutpatients_1['Mono/uL'].values + DataOutpatients_1['Lymph/uL'].values)\n",
    "    v[v<0] = 0\n",
    "    DataOutpatients_1.insert(loc=new_idx, column='Granulo/uL', value=v)"
   ]
  },
  {
   "cell_type": "markdown",
   "metadata": {},
   "source": [
    "### $\\Delta t_{\\mathrm{ons}}$ "
   ]
  },
  {
   "cell_type": "code",
   "execution_count": null,
   "metadata": {},
   "outputs": [],
   "source": [
    "# Dates\n",
    "dates = [date for date in DataInpatients_1.columns if 'date#' in date]\n",
    "\n",
    "if 'delta_onset' not in DataInpatients_1.columns:\n",
    "    \n",
    "    # Find time elapsed since ref. timepoint for each date\n",
    "    ref_date_str = '01-01-2020'\n",
    "    ref_date = pd.Timestamp(ref_date_str)\n",
    "    d_dates = {}\n",
    "    for date in dates:\n",
    "        d_dates[date] = np.array([(element-ref_date).days if pd.notnull(element) else np.nan for element in DataInpatients_1[date]])\n",
    "    d_dates_df = pd.DataFrame(d_dates, columns=dates, index=DataInpatients_1['ID'])\n",
    "\n",
    "    # Add delta_onset column to DataInpatients_1\n",
    "    date_flowcyt_exam = d_dates_df['date#flowcyt_exam'].values\n",
    "    date_onset = d_dates_df['date#onset'].values    \n",
    "    delta_onset_df = pd.DataFrame(date_flowcyt_exam - date_onset, columns=['delta_onset'], index=d_dates_df.index)\n",
    "    v = delta_onset_df.values\n",
    "    DataInpatients_1['delta_onset'] = v\n",
    "    DataOutpatients_1['delta_onset'] = np.nan\n",
    "    print('N. delta_onset data:', sum(DataInpatients_1['delta_onset'].notna()))"
   ]
  },
  {
   "cell_type": "markdown",
   "metadata": {},
   "source": [
    "### Outpatients categories: no covid, no hospitalization"
   ]
  },
  {
   "cell_type": "code",
   "execution_count": null,
   "metadata": {},
   "outputs": [],
   "source": [
    "columns_covid_data = DataInpatients_1.columns\n",
    "\n",
    "mask_noCovid = DataOutpatients_1['COVID ']==0\n",
    "Data_noCovid = DataOutpatients_1.loc[mask_noCovid, columns_covid_data].copy()\n",
    "print('Data no covid shape:', Data_noCovid.shape)\n",
    "\n",
    "mask_Covid = mask_noCovid==False\n",
    "mask_noAdmission =  DataOutpatients_1['admission']==0\n",
    "Data_noAdmission = DataOutpatients_1.loc[mask_Covid & mask_noAdmission, columns_covid_data].copy()\n",
    "print('Data no admission shape:', Data_noAdmission.shape)\n",
    "\n",
    "DataOutpatients = Data_noAdmission.loc[mask_noCovid | mask_noAdmission, columns_covid_data].copy()\n",
    "print('Data control shape:', DataOutpatients.shape)"
   ]
  },
  {
   "cell_type": "markdown",
   "metadata": {},
   "source": [
    "### Age masking (inpatients only)"
   ]
  },
  {
   "cell_type": "code",
   "execution_count": null,
   "metadata": {},
   "outputs": [],
   "source": [
    "## Age range\n",
    "min_age = Parameters.age_min # int>=0\n",
    "max_age = Parameters.age_max # int>lower_bound\n",
    "age_masking = (min_age>0) | (max_age<150)\n",
    "\n",
    "## Masking\n",
    "age = np.round(DataInpatients_1['age'].values)\n",
    "age_mask = (age >= min_age) & (age < max_age)\n",
    "DataInpatients_2 = DataInpatients_1.loc[age_mask, :].copy()\n",
    "\n",
    "print('Min. age:', np.round(min(DataInpatients_2['age'])))\n",
    "print('Max. age:', np.round(max(DataInpatients_2['age'])))\n",
    "print('Data inpatients shape:', DataInpatients_2.shape)\n",
    "print('Data outpatients shape:', DataOutpatients.shape)"
   ]
  },
  {
   "cell_type": "markdown",
   "metadata": {},
   "source": [
    "### $\\Delta t_{\\mathrm{ons}}$ masking (inpatients only)"
   ]
  },
  {
   "cell_type": "code",
   "execution_count": null,
   "metadata": {},
   "outputs": [],
   "source": [
    "## delta_onset range\n",
    "min_donset = Parameters.donset_min # int>=0\n",
    "max_donset = Parameters.donset_max # int>lower_bound\n",
    "donset_masking = (min_donset>=0) | (max_donset<=30)\n",
    "\n",
    "## Masking\n",
    "donset = np.round(DataInpatients_2['delta_onset'].values)\n",
    "donset_mask = (donset >= min_donset) & (donset <= max_donset)\n",
    "DataInpatients_3 = DataInpatients_2.loc[donset_mask, :].copy()\n",
    "\n",
    "print('Min. donset:', np.round(min(DataInpatients_3['delta_onset'])), '(>=%d)'%min_donset)\n",
    "print('Max. donset:', np.round(max(DataInpatients_3['delta_onset'])), '(<=%d)'%max_donset)\n",
    "print('Data inpatients shape:', DataInpatients_3.shape)\n",
    "print('Data outpatients shape:', DataOutpatients.shape)"
   ]
  },
  {
   "cell_type": "markdown",
   "metadata": {},
   "source": [
    "### Outliers removal"
   ]
  },
  {
   "cell_type": "code",
   "execution_count": null,
   "metadata": {},
   "outputs": [],
   "source": [
    "# Variables of interest\n",
    "immunecells_set = Parameters.immunecells_set\n",
    "cytokines_set = Parameters.cytokines_set\n",
    "demographics_set = Parameters.demographics_set\n",
    "scores_set = Parameters.scores_set\n",
    "biomarkers_set = Parameters.biomarkers_set\n",
    "output_set = Parameters.output_set\n",
    "allinput_set = Parameters.allinput_set\n",
    "\n",
    "# Final dataset\n",
    "DataInpatients = DataInpatients_3.copy()\n",
    "\n",
    "std = StandardScaler()\n",
    "ptr = PowerTransformer()\n",
    "z_score_th = Parameters.z_score_th\n",
    "for name in allinput_set:\n",
    "    z = ptr.fit_transform(std.fit_transform(DataInpatients[name].values.reshape(-1, 1)))\n",
    "    is_outlier = abs(z) > z_score_th\n",
    "    n_outliers = sum(is_outlier)\n",
    "    if n_outliers:\n",
    "        DataInpatients[name].where(is_outlier.reshape(-1,)==False, inplace=True)"
   ]
  },
  {
   "cell_type": "markdown",
   "metadata": {},
   "source": [
    "## Export preprocessed data"
   ]
  },
  {
   "cell_type": "code",
   "execution_count": null,
   "metadata": {},
   "outputs": [],
   "source": [
    "file_name = 'DataInpatients_preprocessed.xlsx'\n",
    "path = Parameters.path_datasets + file_name\n",
    "DataInpatients.to_excel(path, index=False)\n",
    "\n",
    "file_name = 'DataOutpatients_preprocessed.xlsx'\n",
    "path = Parameters.path_datasets + file_name\n",
    "DataOutpatients.to_excel(path, index=False)"
   ]
  }
 ],
 "metadata": {
  "kernelspec": {
   "display_name": "py3_6_12",
   "language": "python",
   "name": "python3"
  },
  "language_info": {
   "codemirror_mode": {
    "name": "ipython",
    "version": 3
   },
   "file_extension": ".py",
   "mimetype": "text/x-python",
   "name": "python",
   "nbconvert_exporter": "python",
   "pygments_lexer": "ipython3",
   "version": "3.6.12"
  }
 },
 "nbformat": 4,
 "nbformat_minor": 4
}
