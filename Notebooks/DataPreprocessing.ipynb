{
 "cells": [
  {
   "cell_type": "markdown",
   "metadata": {
    "tags": []
   },
   "source": [
    "## Import libraries"
   ]
  },
  {
   "cell_type": "code",
   "execution_count": 1,
   "metadata": {
    "tags": []
   },
   "outputs": [
    {
     "name": "stdout",
     "output_type": "stream",
     "text": [
      "3.6.12 |Anaconda, Inc.| (default, Sep  8 2020, 17:50:39) \n",
      "[GCC Clang 10.0.0 ]\n"
     ]
    }
   ],
   "source": [
    "## Import libraries\n",
    "import pandas as pd\n",
    "import numpy as np\n",
    "import scipy.stats as st\n",
    "from sklearn.preprocessing import StandardScaler, PowerTransformer\n",
    "import sys\n",
    "import re\n",
    "import os\n",
    "\n",
    "os.environ['PATH'] = os.environ['PATH'] + ':/Library/TeX/texbin'\n",
    "sys.path.append('/Users/riccardo/Documents/GitHub/COVID19Classification/')\n",
    "print(sys.version)\n",
    "\n",
    "from Modules import Parameters"
   ]
  },
  {
   "cell_type": "markdown",
   "metadata": {},
   "source": [
    "## Import data"
   ]
  },
  {
   "cell_type": "code",
   "execution_count": 2,
   "metadata": {},
   "outputs": [
    {
     "name": "stdout",
     "output_type": "stream",
     "text": [
      "Shape inpatients data: (826, 94)\n",
      "Shape outpatients data: (462, 98)\n"
     ]
    }
   ],
   "source": [
    "# Import data of hostpitalized patients\n",
    "file_name = 'DataInpatients_CCIMasked.xlsx'\n",
    "path_import = Parameters.path_datasets + file_name\n",
    "DataInpatients_0 = pd.read_excel(path_import, engine='openpyxl')\n",
    "DataInpatients_0.drop(columns=['Unnamed: 0'], inplace=True)\n",
    "print('Shape inpatients data:', DataInpatients_0.shape)\n",
    "\n",
    "# Import data of non-hostpitalized patients\n",
    "file_name = 'DataOutpatients.xlsx'\n",
    "path_import = Parameters.path_datasets + file_name\n",
    "DataOutpatients_0 = pd.read_excel(path_import, engine='openpyxl')\n",
    "DataOutpatients_0.drop(columns=['Unnamed: 0'], inplace=True)\n",
    "print('Shape outpatients data:', DataOutpatients_0.shape)"
   ]
  },
  {
   "cell_type": "markdown",
   "metadata": {},
   "source": [
    "## Preprocessing"
   ]
  },
  {
   "cell_type": "markdown",
   "metadata": {},
   "source": [
    "### Format nans"
   ]
  },
  {
   "cell_type": "code",
   "execution_count": 3,
   "metadata": {},
   "outputs": [],
   "source": [
    "# nan/nat to none\n",
    "DataInpatients_1 = DataInpatients_0.copy()\n",
    "DataInpatients_1 = DataInpatients_1.where(DataInpatients_1.notnull().values, -1e100)\n",
    "DataInpatients_1 = DataInpatients_1.where(DataInpatients_1.values!=-1e100, np.nan)\n",
    "\n",
    "DataOutpatients_1 = DataOutpatients_0.copy()\n",
    "DataOutpatients_1 = DataOutpatients_1.where(DataOutpatients_1.notnull().values, -1e100)\n",
    "DataOutpatients_1 = DataOutpatients_1.where(DataOutpatients_1.values!=-1e100, np.nan)"
   ]
  },
  {
   "cell_type": "markdown",
   "metadata": {
    "tags": []
   },
   "source": [
    "### Neutro, Baso, Euso"
   ]
  },
  {
   "cell_type": "code",
   "execution_count": 4,
   "metadata": {},
   "outputs": [],
   "source": [
    "if 'NeutroBaEu/uL' not in DataInpatients_1.columns:\n",
    "    new_idx = DataInpatients_1.columns.get_loc('WBC/uL') + 1\n",
    "    v = DataInpatients_1['WBC/uL'].values - (DataInpatients_1['Mono/uL'].values + DataInpatients_1['Linfo/uL'].values)\n",
    "    v[v<0] = 0\n",
    "    DataInpatients_1.insert(loc=new_idx, column='NeutroBaEu/uL', value=v)\n",
    "\n",
    "    new_idx = DataOutpatients_1.columns.get_loc('WBC/uL') + 1\n",
    "    v = DataOutpatients_1['WBC/uL'].values - (DataOutpatients_1['Mono/uL'].values + DataOutpatients_1['Linfo/uL'].values)\n",
    "    v[v<0] = 0\n",
    "    DataOutpatients_1.insert(loc=new_idx, column='NeutroBaEu/uL', value=v)"
   ]
  },
  {
   "cell_type": "markdown",
   "metadata": {},
   "source": [
    "### $\\Delta t_{\\mathrm{ons}}$ "
   ]
  },
  {
   "cell_type": "code",
   "execution_count": 5,
   "metadata": {},
   "outputs": [
    {
     "name": "stdout",
     "output_type": "stream",
     "text": [
      "N. delta_onset data: 718\n"
     ]
    }
   ],
   "source": [
    "# Dates\n",
    "dates = [date for date in DataInpatients_1.columns if 'date#' in date]\n",
    "\n",
    "if 'delta_onset' not in DataInpatients_1.columns:\n",
    "    \n",
    "    # Find time elapsed since ref. timepoint for each date\n",
    "    ref_date_str = '01-01-2020'\n",
    "    ref_date = pd.Timestamp(ref_date_str)\n",
    "    d_dates = {}\n",
    "    for date in dates:\n",
    "        d_dates[date] = np.array([(element-ref_date).days if pd.notnull(element) else np.nan for element in DataInpatients_1[date]])\n",
    "    d_dates_df = pd.DataFrame(d_dates, columns=dates, index=DataInpatients_1['ID'])\n",
    "\n",
    "    # Add delta_onset column to DataInpatients_1\n",
    "    delta_onset_lowerbound = Parameters.donset_min\n",
    "    delta_onset_upperbound = Parameters.donset_max\n",
    "    delta_onset_df = pd.DataFrame(d_dates_df['date#flowcyt_exam'].values - d_dates_df['date#onset'].values, columns=['delta_onset'], index=d_dates_df.index)\n",
    "    v = delta_onset_df.values\n",
    "    mask = (v>=delta_onset_lowerbound) & (v<=delta_onset_upperbound) & (pd.notnull(v))\n",
    "    delta_onset_df_masked = delta_onset_df.loc[mask, :].copy()\n",
    "    DataOutpatients_1['delta_onset'] = np.nan\n",
    "    DataInpatients_1['delta_onset'] = np.nan\n",
    "    DataInpatients_1 = DataInpatients_1.set_index(DataInpatients_1['ID'], drop=False)\n",
    "    DataInpatients_1.loc[delta_onset_df_masked.index, 'delta_onset'] = delta_onset_df_masked.values\n",
    "    DataInpatients_1.reset_index(drop=True, inplace=True)\n",
    "    print('N. delta_onset data:', sum(DataInpatients_1['delta_onset'].notna()))"
   ]
  },
  {
   "cell_type": "markdown",
   "metadata": {},
   "source": [
    "### Outpatients categories: no covid, no hospitalization"
   ]
  },
  {
   "cell_type": "code",
   "execution_count": 6,
   "metadata": {},
   "outputs": [
    {
     "name": "stdout",
     "output_type": "stream",
     "text": [
      "Data no covid shape: (95, 96)\n",
      "Data no admission shape: (367, 96)\n",
      "Data control shape: (462, 96)\n"
     ]
    }
   ],
   "source": [
    "columns_covid_data = DataInpatients_1.columns\n",
    "\n",
    "mask_noCovid = DataOutpatients_1['COVID ']==0\n",
    "Data_noCovid = DataOutpatients_1.loc[mask_noCovid, columns_covid_data].copy()\n",
    "print('Data no covid shape:', Data_noCovid.shape)\n",
    "\n",
    "mask_Covid = mask_noCovid==False\n",
    "mask_noAdmission =  DataOutpatients_1['Admission']==0\n",
    "Data_noAdmission = DataOutpatients_1.loc[mask_Covid & mask_noAdmission, columns_covid_data].copy()\n",
    "print('Data no admission shape:', Data_noAdmission.shape)\n",
    "\n",
    "DataOutpatients = DataOutpatients_1.loc[mask_noCovid | mask_noAdmission, columns_covid_data].copy()\n",
    "print('Data control shape:', DataOutpatients.shape)"
   ]
  },
  {
   "cell_type": "markdown",
   "metadata": {},
   "source": [
    "### Age masking"
   ]
  },
  {
   "cell_type": "code",
   "execution_count": 7,
   "metadata": {},
   "outputs": [
    {
     "name": "stdout",
     "output_type": "stream",
     "text": [
      "Min. age: 30.0\n",
      "Max. age: 98.0\n",
      "Title: Age between 30 and 100\n"
     ]
    }
   ],
   "source": [
    "## Age range\n",
    "min_age = Parameters.age_min # int>=0\n",
    "max_age = Parameters.age_max # int>lower_bound\n",
    "age_masking = (min_age>0) | (max_age<150)\n",
    "\n",
    "## Masking\n",
    "age = np.round(DataInpatients_1['age'].values)\n",
    "title = 'Age between %d and %d' % (min_age, max_age)\n",
    "age_mask = (age >= min_age) & (age < max_age)\n",
    "DataInpatients_2 = DataInpatients_1.loc[age_mask, :].copy()\n",
    "age = np.round(DataOutpatients_1['age'].values)\n",
    "age_mask = (age >= min_age) & (age < max_age)\n",
    "DataOutpatients_2 = DataOutpatients_1.loc[age_mask, :].copy()\n",
    "\n",
    "print('Min. age:', np.round(min(DataInpatients_2['age'])))\n",
    "print('Max. age:', np.round(max(DataInpatients_2['age'])))\n",
    "print('Title:', title)"
   ]
  },
  {
   "cell_type": "markdown",
   "metadata": {},
   "source": [
    "### $\\Delta t_{\\mathrm{onset}}$ masking "
   ]
  },
  {
   "cell_type": "code",
   "execution_count": 18,
   "metadata": {},
   "outputs": [
    {
     "name": "stdout",
     "output_type": "stream",
     "text": [
      "Min. donset: 1.0 (>=0)\n",
      "Max. donset: 29.0 (<=30)\n",
      "Data inpatients shape: (711, 96)\n",
      "Data outpatients shape: (382, 100)\n"
     ]
    }
   ],
   "source": [
    "## delta_onset range\n",
    "min_donset = Parameters.donset_min # int>=0\n",
    "max_donset = Parameters.donset_max # int>lower_bound\n",
    "donset_masking = (min_donset>=0) | (max_donset<=30)\n",
    "\n",
    "## Masking\n",
    "donset = np.round(DataInpatients_2['delta_onset'].values)\n",
    "donset_mask = (donset >= min_donset) & (donset <= max_donset)\n",
    "DataInpatients_3 = DataInpatients_2.loc[donset_mask, :].copy()\n",
    "DataOutpatients_3 = DataOutpatients_2.copy()\n",
    "\n",
    "print('Min. donset:', np.round(min(DataInpatients_3['delta_onset'])), '(>=%d)'%min_donset)\n",
    "print('Max. donset:', np.round(max(DataInpatients_3['delta_onset'])), '(<=%d)'%max_donset)\n",
    "print('Data inpatients shape:', DataInpatients_3.shape)\n",
    "print('Data outpatients shape:', DataOutpatients_3.shape)"
   ]
  },
  {
   "cell_type": "markdown",
   "metadata": {},
   "source": [
    "### Outliers removal"
   ]
  },
  {
   "cell_type": "code",
   "execution_count": 19,
   "metadata": {},
   "outputs": [],
   "source": [
    "# Need to define variables of interest\n",
    "\n",
    "DataInpatients_4 = DataInpatients_3.copy()"
   ]
  },
  {
   "cell_type": "code",
   "execution_count": null,
   "metadata": {},
   "outputs": [],
   "source": []
  }
 ],
 "metadata": {
  "kernelspec": {
   "display_name": "py3_6_12",
   "language": "python",
   "name": "python3"
  },
  "language_info": {
   "codemirror_mode": {
    "name": "ipython",
    "version": 3
   },
   "file_extension": ".py",
   "mimetype": "text/x-python",
   "name": "python",
   "nbconvert_exporter": "python",
   "pygments_lexer": "ipython3",
   "version": "3.6.12"
  }
 },
 "nbformat": 4,
 "nbformat_minor": 4
}
